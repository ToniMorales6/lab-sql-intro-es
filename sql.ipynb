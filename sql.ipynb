{
 "cells": [
  {
   "cell_type": "markdown",
   "metadata": {},
   "source": [
    "Identificar los Principales Tipos de Quejas\n",
    "\n",
    "Consulta el conjunto de datos para encontrar los 5 tipos principales de quejas basados en el número de quejas registradas.\n",
    "Utiliza GROUP BY para agrupar los datos por tipo de queja y ORDER BY para ordenar los resultados."
   ]
  },
  {
   "cell_type": "code",
   "execution_count": null,
   "metadata": {
    "vscode": {
     "languageId": "plaintext"
    }
   },
   "outputs": [],
   "source": [
    "SELECT COMPLAINT_TYPE, COUNT(*) AS complaint_count\n",
    "FROM NYC_311_SERVICE_REQUEST.PUBLIC.\"TABLE\"\n",
    "GROUP BY complaint_type\n",
    "ORDER BY complaint_type DESC\n",
    "LIMIT 10;"
   ]
  },
  {
   "cell_type": "markdown",
   "metadata": {},
   "source": [
    "Analizar Quejas por Distrito\n",
    "\n",
    "Calcula el número total de quejas para cada distrito.\n",
    "Utiliza la cláusula GROUP BY para agrupar los datos por distrito."
   ]
  },
  {
   "cell_type": "code",
   "execution_count": null,
   "metadata": {
    "vscode": {
     "languageId": "plaintext"
    }
   },
   "outputs": [],
   "source": [
    "SELECT borough, COUNT(*) AS complaint_count\n",
    "FROM NYC_311_SERVICE_REQUEST.PUBLIC.\"TABLE\"\n",
    "GROUP BY borough\n",
    "ORDER BY complaint_count DESC;"
   ]
  },
  {
   "cell_type": "markdown",
   "metadata": {},
   "source": [
    "Filtrar Tipos de Quejas de Alto Volumen\n",
    "\n",
    "Utiliza la cláusula HAVING para filtrar tipos de quejas que tienen más de 100 quejas registradas.\n",
    "Muestra el tipo de queja y el recuento de quejas."
   ]
  },
  {
   "cell_type": "code",
   "execution_count": null,
   "metadata": {
    "vscode": {
     "languageId": "plaintext"
    }
   },
   "outputs": [],
   "source": [
    "SELECT COMPLAINT_TYPE, COUNT(*) AS complaint_count\n",
    "FROM NYC_311_SERVICE_REQUEST.PUBLIC.\"TABLE\"\n",
    "GROUP BY COMPLAINT_TYPE\n",
    "HAVING COUNT(*) > 100\n",
    "ORDER BY complaint_count;"
   ]
  },
  {
   "cell_type": "markdown",
   "metadata": {},
   "source": [
    "Comparación de Distritos para un Tipo Específico de Queja\n",
    "\n",
    "Elige un tipo particular de queja.\n",
    "Compara el número de dichas quejas en cada distrito."
   ]
  },
  {
   "cell_type": "code",
   "execution_count": null,
   "metadata": {
    "vscode": {
     "languageId": "plaintext"
    }
   },
   "outputs": [],
   "source": [
    "SELECT BOROUGH, COUNT(*) AS complaint_count\n",
    "FROM NYC_311_SERVICE_REQUEST.PUBLIC.\"TABLE\"\n",
    "WHERE COMPLAINT_TYPE = 'Noise - Street/Sidewalk'\n",
    "GROUP BY BOROUGH;"
   ]
  }
 ],
 "metadata": {
  "language_info": {
   "name": "python"
  }
 },
 "nbformat": 4,
 "nbformat_minor": 2
}
